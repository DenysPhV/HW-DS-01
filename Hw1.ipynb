{
 "cells": [
  {
   "cell_type": "code",
   "execution_count": 4,
   "id": "ebbd7995-40ae-418b-945f-c8a6ca61d7e1",
   "metadata": {},
   "outputs": [
    {
     "name": "stdout",
     "output_type": "stream",
     "text": [
      "[ 1  2  3  4  5  6  7  8  9 10]\n"
     ]
    }
   ],
   "source": [
    "# 1\n",
    "import numpy as np\n",
    "vec = np.arange(1, 11)\n",
    "print(vec)"
   ]
  },
  {
   "cell_type": "code",
   "execution_count": 24,
   "id": "50ef667e-585c-4bae-8396-229d812182dd",
   "metadata": {},
   "outputs": [
    {
     "name": "stdout",
     "output_type": "stream",
     "text": [
      "[[0 0 0]\n",
      " [0 0 0]\n",
      " [0 0 0]]\n"
     ]
    }
   ],
   "source": [
    "# 2\n",
    "import numpy as np\n",
    "arr = np.zeros((3, 3), dtype=int)\n",
    "print(arr)"
   ]
  },
  {
   "cell_type": "code",
   "execution_count": 5,
   "id": "0d401414-786d-420b-a1f2-3a130e527be0",
   "metadata": {},
   "outputs": [
    {
     "name": "stdout",
     "output_type": "stream",
     "text": [
      "[[ 5  1  7  8  8]\n",
      " [10 10  5  2  5]\n",
      " [ 5  5  4  5  9]\n",
      " [ 2  2  3  4  2]\n",
      " [ 9  2  8  4  7]]\n"
     ]
    }
   ],
   "source": [
    "# 3\n",
    "import numpy as np\n",
    "make_arr = np.random.randint(1, 11, (5, 5))\n",
    "print(make_arr)"
   ]
  },
  {
   "cell_type": "code",
   "execution_count": 27,
   "id": "9a8cb11f-9610-479f-9b3d-4a8c9fa30ef7",
   "metadata": {},
   "outputs": [
    {
     "name": "stdout",
     "output_type": "stream",
     "text": [
      "[[0.75027826 0.11570231 0.68786684 0.90706709]\n",
      " [0.37528899 0.48123643 0.3331499  0.24113575]\n",
      " [0.24748981 0.38190256 0.46925775 0.87638278]\n",
      " [0.66613038 0.83209768 0.53525048 0.62176138]]\n"
     ]
    }
   ],
   "source": [
    "# 4\n",
    "import numpy as np\n",
    "make_arr = np.random.rand(4, 4)\n",
    "print(make_arr)\n"
   ]
  },
  {
   "cell_type": "code",
   "execution_count": 12,
   "id": "72879c64-a90d-4d67-be41-78f419ffda71",
   "metadata": {},
   "outputs": [
    {
     "name": "stdout",
     "output_type": "stream",
     "text": [
      "Масив 1: [ 7  7 10 10  7]\n",
      "Масив 2: [3 4 3 7 5]\n",
      "Додавання: [10 11 13 17 12]\n",
      "Віднімання: [4 3 7 3 2]\n",
      "Множення: [21 28 30 70 35]\n"
     ]
    }
   ],
   "source": [
    "# 5\n",
    "import numpy as np\n",
    "# Створення двох одновимірних масивів\n",
    "arr1 = np.random.randint(1, 11, 5)\n",
    "arr2 = np.random.randint(1, 11, 5)\n",
    "print(f\"Масив 1: {arr1}\")\n",
    "print(f\"Масив 2: {arr2}\")\n",
    "\n",
    "# Поелементні операції\n",
    "addition = arr1 + arr2\n",
    "subtraction = arr1 - arr2\n",
    "multiplication = arr1 * arr2\n",
    "\n",
    "print(f\"Додавання: {addition}\")\n",
    "print(f\"Віднімання: {subtraction}\")\n",
    "print(f\"Множення: {multiplication}\")\n"
   ]
  },
  {
   "cell_type": "code",
   "execution_count": 29,
   "id": "68a70d01-a4e1-4746-bcca-5c87e9a3bc7f",
   "metadata": {},
   "outputs": [
    {
     "name": "stdout",
     "output_type": "stream",
     "text": [
      "Вектор 1: [0.51932577 0.52547649 0.45727071 0.55172385 0.19866311 0.58536478\n",
      " 0.77884121]\n",
      "Вектор 2: [0.35855877 0.24903004 0.80784691 0.95403129 0.97682338 0.79146599\n",
      " 0.82310143]\n",
      "Скалярний добуток: 2.5112551769395313\n"
     ]
    }
   ],
   "source": [
    "# 6\n",
    "import numpy as np\n",
    "vec1 = np.random.rand(7)\n",
    "vec2 = np.random.rand(7)\n",
    "print(f\"Вектор 1: {vec1}\")\n",
    "print(f\"Вектор 2: {vec2}\")\n",
    "\n",
    "# Знаходження скалярного добутку\n",
    "scalar_product = np.dot(vec1, vec2)\n",
    "\n",
    "print(f\"Скалярний добуток: {scalar_product}\")\n"
   ]
  },
  {
   "cell_type": "code",
   "execution_count": null,
   "id": "a24f622e-499c-4c84-b133-6d4772a6ba03",
   "metadata": {},
   "outputs": [],
   "source": [
    "# 7\n",
    "# слід врахувати, що перемножувати матриці розміром 2x2 та 2x3 неможливо"
   ]
  },
  {
   "cell_type": "code",
   "execution_count": 30,
   "id": "ef3670c9-84eb-4b4a-85c3-2da08d1ec476",
   "metadata": {},
   "outputs": [
    {
     "name": "stdout",
     "output_type": "stream",
     "text": [
      "Початкова матриця:\n",
      "[[ 7  4  6]\n",
      " [ 8  2 10]\n",
      " [ 1  3  9]]\n",
      "Обернена матриця:\n",
      "[[ 0.06   0.09  -0.14 ]\n",
      " [ 0.31  -0.285  0.11 ]\n",
      " [-0.11   0.085  0.09 ]]\n"
     ]
    }
   ],
   "source": [
    "# 8 \n",
    "import numpy as np\n",
    "# Створення матриц\n",
    "matrix = np.random.randint(1, 11, (3, 3))\n",
    "print(f\"Початкова матриця:\\n{matrix}\")\n",
    "\n",
    "# Знаходження оберненої матриці\n",
    "try:\n",
    "    inverse_matrix = np.linalg.inv(matrix)\n",
    "    print(f\"Обернена матриця:\\n{inverse_matrix}\")\n",
    "except np.linalg.LinAlgError:\n",
    "    print(\"Матриця є виродженою і не має оберненої матриці.\")\n"
   ]
  },
  {
   "cell_type": "code",
   "execution_count": 32,
   "id": "2f839526-4ca5-49e3-9c4e-08f1f228efb5",
   "metadata": {},
   "outputs": [
    {
     "name": "stdout",
     "output_type": "stream",
     "text": [
      "Початкова матриця:\n",
      "[[0.11343184 0.83341984 0.62026447 0.74325016]\n",
      " [0.95831135 0.60735602 0.66667884 0.60255595]\n",
      " [0.71660033 0.1097484  0.30355564 0.68482859]\n",
      " [0.49996353 0.5496687  0.95207931 0.81352193]]\n",
      "\n",
      "Транспонована матриця:\n",
      "[[0.11343184 0.95831135 0.71660033 0.49996353]\n",
      " [0.83341984 0.60735602 0.1097484  0.5496687 ]\n",
      " [0.62026447 0.66667884 0.30355564 0.95207931]\n",
      " [0.74325016 0.60255595 0.68482859 0.81352193]]\n"
     ]
    }
   ],
   "source": [
    "# 9\n",
    "import numpy as np\n",
    "# Створення матриці\n",
    "matrix = np.random.rand(4, 4)\n",
    "print(f\"Початкова матриця:\\n{matrix}\\n\")\n",
    "\n",
    "# Транспонування матриці\n",
    "transposed_matrix = matrix.T\n",
    "print(f\"Транспонована матриця:\\n{transposed_matrix}\")"
   ]
  },
  {
   "cell_type": "code",
   "execution_count": 34,
   "id": "b08dc4a0-9d5e-4d75-a1e7-2182e4245211",
   "metadata": {},
   "outputs": [
    {
     "name": "stdout",
     "output_type": "stream",
     "text": [
      "Матриця:\n",
      "[[2 5 6 6]\n",
      " [1 1 6 5]\n",
      " [5 1 2 3]]\n",
      "\n",
      "Вектор:\n",
      "[6 3 2 5]\n",
      "\n",
      "Результат перемноження матриці на вектор:\n",
      "[69 46 52]\n"
     ]
    }
   ],
   "source": [
    "# 10\n",
    "import numpy as np\n",
    "# Створення матриці розміром 3x4\n",
    "matrix = np.random.randint(1, 11, (3, 4))\n",
    "\n",
    "# Створення вектора розміром 4\n",
    "vector = np.random.randint(1, 11, 4)\n",
    "\n",
    "print(f\"Матриця:\\n{matrix}\\n\")\n",
    "print(f\"Вектор:\\n{vector}\\n\")\n",
    "\n",
    "result = np.dot(matrix, vector)\n",
    "\n",
    "print(f\"Результат перемноження матриці на вектор:\\n{result}\")"
   ]
  },
  {
   "cell_type": "code",
   "execution_count": 39,
   "id": "92cf6962-5178-44b8-9edc-2e72d8a54de7",
   "metadata": {},
   "outputs": [
    {
     "name": "stdout",
     "output_type": "stream",
     "text": [
      "Матриця:\n",
      "[[0.72535403 0.42368351 0.01560652]\n",
      " [0.69765683 0.04097076 0.13197154]]\n",
      "\n",
      "Вектор:\n",
      "[0.66399088 0.96861761 0.97189939]\n",
      "\n",
      "Результат перемноження матриці на вектор:\n",
      "[0.90718374 0.63118584]\n"
     ]
    }
   ],
   "source": [
    "# 11\n",
    "import numpy as np\n",
    "# Створення матриці розміром 2x3\n",
    "matrix = np.random.rand(2, 3)\n",
    "\n",
    "# Створення вектора розміром 3\n",
    "vector = np.random.rand(3)\n",
    "\n",
    "print(f\"Матриця:\\n{matrix}\\n\")\n",
    "print(f\"Вектор:\\n{vector}\\n\")\n",
    "\n",
    "\n",
    "result = np.dot(matrix, vector)\n",
    "print(f\"Результат перемноження матриці на вектор:\\n{result}\")"
   ]
  },
  {
   "cell_type": "code",
   "execution_count": 6,
   "id": "3369604f-7f00-47c3-aff3-4a6fdcf32875",
   "metadata": {},
   "outputs": [
    {
     "name": "stdout",
     "output_type": "stream",
     "text": [
      "матрицa 1: [[3 4]\n",
      " [5 6]]\n",
      "матрицa 2: [[10  6]\n",
      " [ 6  5]]\n",
      "Множення: [[30 24]\n",
      " [30 30]]\n"
     ]
    }
   ],
   "source": [
    "# 12\n",
    "import numpy as np\n",
    "# Створення двох матриц розміром 2x2\n",
    "arr1 = np.random.randint(1, 11, (2, 2))\n",
    "arr2 = np.random.randint(1, 11, (2, 2))\n",
    "print(f\"матрицa 1: {arr1}\")\n",
    "print(f\"матрицa 2: {arr2}\")\n",
    "\n",
    "multiplication = arr1 * arr2\n",
    "print(f\"Множення: {multiplication}\")\n",
    "\n"
   ]
  },
  {
   "cell_type": "code",
   "execution_count": 9,
   "id": "824ea513-17af-4f01-9dc0-cedf1b7fefe5",
   "metadata": {},
   "outputs": [
    {
     "name": "stdout",
     "output_type": "stream",
     "text": [
      "матрицa 1: [[1 7]\n",
      " [7 6]]\n",
      "матрицa 2: [[3 5]\n",
      " [3 5]]\n",
      "добуток: [[24 40]\n",
      " [39 65]]\n"
     ]
    }
   ],
   "source": [
    "# 13\n",
    "import numpy as np\n",
    "# Створення двох матриц розміром 2x2\n",
    "arr1 = np.random.randint(1, 11, (2, 2))\n",
    "arr2 = np.random.randint(1, 11, (2, 2))\n",
    "\n",
    "print(f\"матрицa 1: {arr1}\")\n",
    "print(f\"матрицa 2: {arr2}\")\n",
    "\n",
    "product = np.dot(arr1, arr2)\n",
    "print(f\"добуток: {product}\")\n"
   ]
  },
  {
   "cell_type": "code",
   "execution_count": 11,
   "id": "92c6be6c-7b5a-42e6-8efe-023316ff28a7",
   "metadata": {},
   "outputs": [
    {
     "name": "stdout",
     "output_type": "stream",
     "text": [
      "Матриця:\n",
      "[[41 59 42 15 88]\n",
      " [33 60 77 32 35]\n",
      " [78 84 40 67 64]\n",
      " [25 84 47 93 64]\n",
      " [87 34  1 30 82]]\n",
      "\n",
      "Сума елементів матриці: 1362\n"
     ]
    }
   ],
   "source": [
    "# 14\n",
    "import numpy as np\n",
    "\n",
    "# Створення матриці розміром 5x5\n",
    "matrix = np.random.randint(1, 101, size=(5, 5))\n",
    "print(f\"Матриця:\\n{matrix}\\n\")\n",
    "\n",
    "# Знаходження суми елементів матриці\n",
    "sum_elements = np.sum(matrix)\n",
    "print(f\"Сума елементів матриці: {sum_elements}\")\n"
   ]
  },
  {
   "cell_type": "code",
   "execution_count": 13,
   "id": "2f5ba82e-9b6e-4b3a-9ef6-9902a1e1b860",
   "metadata": {},
   "outputs": [
    {
     "name": "stdout",
     "output_type": "stream",
     "text": [
      "Матриця 1:\n",
      "[[5 2 8 1]\n",
      " [6 1 6 9]\n",
      " [9 9 6 1]\n",
      " [8 3 7 3]]\n",
      "\n",
      "Матриця 2:\n",
      "[[ 9  3  8  5]\n",
      " [ 8  5  8  7]\n",
      " [10  8  8  2]\n",
      " [ 5  9  2  8]]\n",
      "\n",
      "Різниця між матрицями:\n",
      "[[-4 -1  0 -4]\n",
      " [-2 -4 -2  2]\n",
      " [-1  1 -2 -1]\n",
      " [ 3 -6  5 -5]]\n"
     ]
    }
   ],
   "source": [
    "# 15\n",
    "import numpy as np\n",
    "\n",
    "# Створення двох матриць розміром 4x4\n",
    "matrix1 = np.random.randint(1, 11, size=(4, 4))\n",
    "matrix2 = np.random.randint(1, 11, size=(4, 4))\n",
    "\n",
    "print(f\"Матриця 1:\\n{matrix1}\\n\")\n",
    "print(f\"Матриця 2:\\n{matrix2}\\n\")\n",
    "\n",
    "# Знаходження різниці між матрицями\n",
    "difference = matrix1 - matrix2\n",
    "print(f\"Різниця між матрицями:\\n{difference}\")\n"
   ]
  },
  {
   "cell_type": "code",
   "execution_count": 14,
   "id": "d344cb32-91f8-411d-b969-932ddb7211e7",
   "metadata": {},
   "outputs": [
    {
     "name": "stdout",
     "output_type": "stream",
     "text": [
      "Матриця:\n",
      "[[0.69082661 0.51087243 0.9057534 ]\n",
      " [0.57983399 0.580555   0.25786943]\n",
      " [0.5498171  0.62355919 0.76921786]]\n",
      "\n",
      "Вектор-стовпчик із сумами елементів рядків:\n",
      "[[2.10745244]\n",
      " [1.41825842]\n",
      " [1.94259415]]\n"
     ]
    }
   ],
   "source": [
    "# 16\n",
    "import numpy as np\n",
    "\n",
    "# Створення матриці розміром 3x3\n",
    "matrix = np.random.rand(3, 3)\n",
    "print(f\"Матриця:\\n{matrix}\\n\")\n",
    "\n",
    "# Знаходження вектора-стовпчика, що містить суму елементів кожного рядка матриці\n",
    "sum_vector = np.sum(matrix, axis=1).reshape(-1, 1)\n",
    "print(f\"Вектор-стовпчик із сумами елементів рядків:\\n{sum_vector}\")\n"
   ]
  },
  {
   "cell_type": "code",
   "execution_count": 16,
   "id": "dbd2f6eb-38db-4cd3-a2d4-f916eaa2b72d",
   "metadata": {},
   "outputs": [
    {
     "name": "stdout",
     "output_type": "stream",
     "text": [
      "Початкова матриця:\n",
      "[[5 1 5 8]\n",
      " [1 5 2 5]\n",
      " [1 2 8 1]]\n",
      "\n",
      "Матриця з квадратами чисел:\n",
      "[[25  1 25 64]\n",
      " [ 1 25  4 25]\n",
      " [ 1  4 64  1]]\n"
     ]
    }
   ],
   "source": [
    "# 17\n",
    "import numpy as np\n",
    "\n",
    "# Створення матриці розміром 3x4 з випадковими цілими числами в діапазоні від 1 до 10\n",
    "matrix = np.random.randint(1, 11, (3, 4))\n",
    "print(f\"Початкова матриця:\\n{matrix}\\n\")\n",
    "\n",
    "# Створення матриці з квадратами чисел\n",
    "squared_matrix = matrix ** 2\n",
    "print(f\"Матриця з квадратами чисел:\\n{squared_matrix}\")\n"
   ]
  },
  {
   "cell_type": "code",
   "execution_count": 18,
   "id": "629d01dd-c59f-4579-acf9-7ac0697a052f",
   "metadata": {},
   "outputs": [
    {
     "name": "stdout",
     "output_type": "stream",
     "text": [
      "Початковий вектор: [49 38  6 10]\n",
      "Вектор з квадратними коренями: [7.         6.164414   2.44948974 3.16227766]\n"
     ]
    }
   ],
   "source": [
    "# 18\n",
    "import numpy as np\n",
    "\n",
    "# Створення вектора розміром 4 з випадковими цілими числами в діапазоні від 1 до 50\n",
    "vector = np.random.randint(1, 51, 4)\n",
    "print(f\"Початковий вектор: {vector}\")\n",
    "\n",
    "# Знаходження вектора з квадратними коренями чисел\n",
    "sqrt_vector = np.sqrt(vector)\n",
    "print(f\"Вектор з квадратними коренями: {sqrt_vector}\")\n",
    "\n"
   ]
  },
  {
   "cell_type": "code",
   "execution_count": null,
   "id": "1135a50b-0ba2-4420-b565-b43667c8be4a",
   "metadata": {},
   "outputs": [],
   "source": []
  }
 ],
 "metadata": {
  "kernelspec": {
   "display_name": "Python 3 (ipykernel)",
   "language": "python",
   "name": "python3"
  },
  "language_info": {
   "codemirror_mode": {
    "name": "ipython",
    "version": 3
   },
   "file_extension": ".py",
   "mimetype": "text/x-python",
   "name": "python",
   "nbconvert_exporter": "python",
   "pygments_lexer": "ipython3",
   "version": "3.11.3"
  }
 },
 "nbformat": 4,
 "nbformat_minor": 5
}
